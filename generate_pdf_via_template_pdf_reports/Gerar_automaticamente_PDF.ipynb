{
  "cells": [
    {
      "cell_type": "markdown",
      "metadata": {
        "id": "hyQsr6tDcJnO"
      },
      "source": [
        "# Entrada de Dados"
      ]
    },
    {
      "cell_type": "code",
      "execution_count": 9,
      "metadata": {
        "colab": {
          "base_uri": "https://localhost:8080/"
        },
        "id": "nF57nUrXcOjV",
        "outputId": "88ab98c3-9b94-4103-c1d6-3f906ee983f0"
      },
      "outputs": [
        {
          "name": "stdout",
          "output_type": "stream",
          "text": [
            "Digite o nome do aluno(a): Maria\n",
            "Digite a idade do aluno(a): 29\n",
            "Digite o peso do aluno(a) (kg): 65\n",
            "Digite a altura do aluno(a) (m): 1.72\n"
          ]
        }
      ],
      "source": [
        "nome = input(\"Digite o nome do aluno(a): \")\n",
        "idade = input(\"Digite a idade do aluno(a): \")\n",
        "peso = input(\"Digite o peso do aluno(a) (kg): \")\n",
        "altura = input(\"Digite a altura do aluno(a) (m): \")"
      ]
    },
    {
      "cell_type": "markdown",
      "metadata": {
        "id": "jzz4HoRxeTr0"
      },
      "source": [
        "# Calculando o IMC"
      ]
    },
    {
      "cell_type": "code",
      "execution_count": 10,
      "metadata": {
        "id": "6fW1-nwVeipd"
      },
      "outputs": [],
      "source": [
        "imc = float(peso) / (float(altura) ** 2)"
      ]
    },
    {
      "cell_type": "code",
      "execution_count": 11,
      "metadata": {
        "colab": {
          "base_uri": "https://localhost:8080/"
        },
        "id": "Vw7tMN8FiRx2",
        "outputId": "161342fa-bf0e-46f0-c47a-9580c9dd6972"
      },
      "outputs": [
        {
          "name": "stdout",
          "output_type": "stream",
          "text": [
            "21.971335857220122\n"
          ]
        }
      ],
      "source": [
        "print(imc)"
      ]
    },
    {
      "cell_type": "markdown",
      "metadata": {
        "id": "AGsc2YBOjlWM"
      },
      "source": [
        "# Criando o status"
      ]
    },
    {
      "cell_type": "code",
      "execution_count": 17,
      "metadata": {
        "id": "LxN-zkS5j9WF"
      },
      "outputs": [],
      "source": [
        "status = \"dentro do peso\"\n",
        "if imc > 25:\n",
        "  status = \"sobrepeso\""
      ]
    },
    {
      "cell_type": "code",
      "execution_count": 18,
      "metadata": {
        "colab": {
          "base_uri": "https://localhost:8080/"
        },
        "id": "erckwPvYlEvP",
        "outputId": "0f85c7d8-39fd-47f6-ceb0-f52b68795a66"
      },
      "outputs": [
        {
          "name": "stdout",
          "output_type": "stream",
          "text": [
            "dentro do peso\n"
          ]
        }
      ],
      "source": [
        "print(status)"
      ]
    },
    {
      "cell_type": "markdown",
      "metadata": {
        "id": "edb8cpgulP0i"
      },
      "source": [
        "# Gerando o PDF"
      ]
    },
    {
      "cell_type": "code",
      "execution_count": null,
      "metadata": {
        "id": "kVMsOG9ulTF4"
      },
      "outputs": [],
      "source": [
        "!pip install pdf_reports"
      ]
    },
    {
      "cell_type": "code",
      "execution_count": 15,
      "metadata": {
        "id": "tF9PXW4UlqdB"
      },
      "outputs": [],
      "source": [
        "import pdf_reports"
      ]
    },
    {
      "cell_type": "code",
      "execution_count": 38,
      "metadata": {
        "id": "3zUlfQHCl9_0"
      },
      "outputs": [],
      "source": [
        "dados_aluno = {\n",
        "    \"nome\": nome,\n",
        "    \"idade\": idade,\n",
        "    \"peso\": peso,\n",
        "    \"altura\": altura,\n",
        "    \"imc\": round(imc,2),\n",
        "    \"status\": status\n",
        "}\n"
      ]
    },
    {
      "cell_type": "code",
      "execution_count": 39,
      "metadata": {
        "id": "yYuvIrr8nMAx"
      },
      "outputs": [],
      "source": [
        "template = pdf_reports.pug_to_html(\"template.pug\", dados=dados_aluno)"
      ]
    },
    {
      "cell_type": "code",
      "execution_count": 40,
      "metadata": {
        "id": "q69EcPTqpMix"
      },
      "outputs": [],
      "source": [
        "pdf_reports.write_report(template, \"ficha_aluno.pdf\", use_default_styling=False)"
      ]
    }
  ],
  "metadata": {
    "colab": {
      "collapsed_sections": [],
      "provenance": []
    },
    "kernelspec": {
      "display_name": "Python 3",
      "language": "python",
      "name": "python3"
    },
    "language_info": {
      "name": "python",
      "version": "3.11.1"
    },
    "vscode": {
      "interpreter": {
        "hash": "52634da84371cba311ea128a5ea7cdc41ff074b781779e754b270ff9f8153cee"
      }
    }
  },
  "nbformat": 4,
  "nbformat_minor": 0
}
