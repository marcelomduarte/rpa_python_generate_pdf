{
  "cells": [
    {
      "cell_type": "markdown",
      "metadata": {
        "id": "2yT_BwtPRHgn"
      },
      "source": [
        "<h3 style=\"color: #2F666F\">Entrada de dados</h3>"
      ]
    },
    {
      "cell_type": "code",
      "execution_count": 1,
      "metadata": {
        "colab": {
          "base_uri": "https://localhost:8080/"
        },
        "id": "stSs4RS0RL2A",
        "outputId": "e699ea79-dcf6-406f-a6b4-006f41cd7818"
      },
      "outputs": [
        {
          "name": "stdout",
          "output_type": "stream",
          "text": [
            "Digite a descrição do projeto: Desenvolvimento Python\n",
            "Digite o total de horas estimadas: 60\n",
            "Digite o valor da hora trabalhada: 120\n",
            "Digite o prazo estimado: 2 meses\n"
          ]
        }
      ],
      "source": [
        "projeto = input(\"Digite a descrição do projeto: \")\n",
        "horas_estimadas = input(\"Digite o total de horas estimadas: \")\n",
        "valor_hora = input(\"Digite o valor da hora trabalhada: \")\n",
        "prazo_estimado = input(\"Digite o prazo estimado: \")"
      ]
    },
    {
      "cell_type": "markdown",
      "metadata": {
        "id": "2jIPUu_wRlmC"
      },
      "source": [
        "<h3 style=\"color: #2F666F\">Criando o cálculo do valor total estimado</h3>\n",
        "\n",
        "- **Cálculo:** `valor total estimado = total de horas estimadadas x valor da hora de trabalho`\n"
      ]
    },
    {
      "cell_type": "code",
      "execution_count": 2,
      "metadata": {
        "id": "LnRG_Nk7RuSO"
      },
      "outputs": [],
      "source": [
        "valor_total_estimado = int(horas_estimadas) * int(valor_hora)"
      ]
    },
    {
      "cell_type": "code",
      "execution_count": 3,
      "metadata": {
        "colab": {
          "base_uri": "https://localhost:8080/"
        },
        "id": "Otm7DpSeT72A",
        "outputId": "4a7764a6-7f8e-485f-d092-6d2651171d7f"
      },
      "outputs": [
        {
          "name": "stdout",
          "output_type": "stream",
          "text": [
            "7200\n"
          ]
        }
      ],
      "source": [
        "print(valor_total_estimado)"
      ]
    },
    {
      "cell_type": "markdown",
      "metadata": {
        "id": "86pr8V7UUKTQ"
      },
      "source": [
        "<h3 style=\"color: #2F666F\">Gerando o PDF com o orçamento</h3>"
      ]
    },
    {
      "cell_type": "markdown",
      "metadata": {
        "id": "I6gsK0JKVk7Z"
      },
      "source": [
        "<h4>Instalando a biblioteca</h4>"
      ]
    },
    {
      "cell_type": "code",
      "execution_count": null,
      "metadata": {
        "id": "14z02hKiVlxe"
      },
      "outputs": [],
      "source": [
        "!pip install fpdf"
      ]
    },
    {
      "cell_type": "code",
      "execution_count": 6,
      "metadata": {
        "id": "WYIuhyiyVpyp"
      },
      "outputs": [],
      "source": [
        "# importando a biblioteca\n",
        "from fpdf import FPDF "
      ]
    },
    {
      "cell_type": "markdown",
      "metadata": {
        "id": "6PYoHAaaWBE5"
      },
      "source": [
        "<h4>Criando um arquivo PDF</h4>"
      ]
    },
    {
      "cell_type": "code",
      "execution_count": 7,
      "metadata": {
        "id": "MdlbTLc8WC28"
      },
      "outputs": [],
      "source": [
        "pdf = FPDF()\n",
        "pdf.add_page()\n",
        "pdf.set_font(\"Arial\")"
      ]
    },
    {
      "cell_type": "code",
      "execution_count": 12,
      "metadata": {
        "id": "kna8uuQJWRab"
      },
      "outputs": [],
      "source": [
        "# utilizando um template\n",
        "pdf.image(\"template.png\", x=0, y=0 )\n",
        "\n",
        "# inserindo os dados do projeto\n",
        "pdf.text(115, 145, projeto)\n",
        "pdf.text(115, 160, horas_estimadas)\n",
        "pdf.text(115, 175, valor_hora)\n",
        "pdf.text(115, 190, prazo_estimado)\n",
        "pdf.text(115, 205, str(valor_total_estimado))"
      ]
    },
    {
      "cell_type": "markdown",
      "metadata": {
        "id": "ZSSSqnAPWm-6"
      },
      "source": [
        "<h4>Salvando o arquivo</h4>"
      ]
    },
    {
      "cell_type": "code",
      "execution_count": 11,
      "metadata": {
        "colab": {
          "base_uri": "https://localhost:8080/"
        },
        "id": "TfIpANnHWnqU",
        "outputId": "c6d75b7f-d3e5-4e19-ec34-1c4538976cde"
      },
      "outputs": [
        {
          "name": "stdout",
          "output_type": "stream",
          "text": [
            "Orçamento gerado com sucesso!\n"
          ]
        }
      ],
      "source": [
        "pdf.output(\"orcamento.pdf\")\n",
        "print(\"Orçamento gerado com sucesso!\")"
      ]
    }
  ],
  "metadata": {
    "colab": {
      "collapsed_sections": [],
      "provenance": []
    },
    "kernelspec": {
      "display_name": "Python 3",
      "language": "python",
      "name": "python3"
    },
    "language_info": {
      "name": "python",
      "version": "3.11.1"
    },
    "vscode": {
      "interpreter": {
        "hash": "52634da84371cba311ea128a5ea7cdc41ff074b781779e754b270ff9f8153cee"
      }
    }
  },
  "nbformat": 4,
  "nbformat_minor": 0
}
